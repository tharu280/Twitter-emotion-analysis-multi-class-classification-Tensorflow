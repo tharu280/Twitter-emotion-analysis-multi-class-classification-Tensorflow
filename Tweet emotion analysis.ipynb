{
 "cells": [
  {
   "cell_type": "markdown",
   "id": "799c61f9-c663-4e90-9ccc-f421eded9f48",
   "metadata": {},
   "source": [
    "Regularization , embedding, bidirectrional LSTM, dropouts, and yet the effect of an extremely imbalanced dataset caused the model b"
   ]
  },
  {
   "cell_type": "code",
   "execution_count": 1,
   "id": "7e1bb431-aef1-4296-9cb9-d1324a4415ff",
   "metadata": {},
   "outputs": [],
   "source": [
    "import os\n",
    "import pandas as pd\n",
    "import tensorflow as tf\n",
    "import numpy as np\n",
    "from tensorflow.keras.layers import TextVectorization\n",
    "import re"
   ]
  },
  {
   "cell_type": "code",
   "execution_count": 2,
   "id": "d38a0b35-d2a2-4f40-bda4-b20898a74971",
   "metadata": {},
   "outputs": [],
   "source": [
    "df = pd.read_csv('tweet_emotions.csv')"
   ]
  },
  {
   "cell_type": "code",
   "execution_count": 3,
   "id": "6de600d2-e479-4e0a-bb4d-0bc611061a40",
   "metadata": {},
   "outputs": [
    {
     "data": {
      "text/html": [
       "<div>\n",
       "<style scoped>\n",
       "    .dataframe tbody tr th:only-of-type {\n",
       "        vertical-align: middle;\n",
       "    }\n",
       "\n",
       "    .dataframe tbody tr th {\n",
       "        vertical-align: top;\n",
       "    }\n",
       "\n",
       "    .dataframe thead th {\n",
       "        text-align: right;\n",
       "    }\n",
       "</style>\n",
       "<table border=\"1\" class=\"dataframe\">\n",
       "  <thead>\n",
       "    <tr style=\"text-align: right;\">\n",
       "      <th></th>\n",
       "      <th>tweet_id</th>\n",
       "      <th>sentiment</th>\n",
       "      <th>content</th>\n",
       "    </tr>\n",
       "  </thead>\n",
       "  <tbody>\n",
       "    <tr>\n",
       "      <th>0</th>\n",
       "      <td>1956967341</td>\n",
       "      <td>empty</td>\n",
       "      <td>@tiffanylue i know  i was listenin to bad habi...</td>\n",
       "    </tr>\n",
       "    <tr>\n",
       "      <th>1</th>\n",
       "      <td>1956967666</td>\n",
       "      <td>sadness</td>\n",
       "      <td>Layin n bed with a headache  ughhhh...waitin o...</td>\n",
       "    </tr>\n",
       "    <tr>\n",
       "      <th>2</th>\n",
       "      <td>1956967696</td>\n",
       "      <td>sadness</td>\n",
       "      <td>Funeral ceremony...gloomy friday...</td>\n",
       "    </tr>\n",
       "    <tr>\n",
       "      <th>3</th>\n",
       "      <td>1956967789</td>\n",
       "      <td>enthusiasm</td>\n",
       "      <td>wants to hang out with friends SOON!</td>\n",
       "    </tr>\n",
       "    <tr>\n",
       "      <th>4</th>\n",
       "      <td>1956968416</td>\n",
       "      <td>neutral</td>\n",
       "      <td>@dannycastillo We want to trade with someone w...</td>\n",
       "    </tr>\n",
       "  </tbody>\n",
       "</table>\n",
       "</div>"
      ],
      "text/plain": [
       "     tweet_id   sentiment                                            content\n",
       "0  1956967341       empty  @tiffanylue i know  i was listenin to bad habi...\n",
       "1  1956967666     sadness  Layin n bed with a headache  ughhhh...waitin o...\n",
       "2  1956967696     sadness                Funeral ceremony...gloomy friday...\n",
       "3  1956967789  enthusiasm               wants to hang out with friends SOON!\n",
       "4  1956968416     neutral  @dannycastillo We want to trade with someone w..."
      ]
     },
     "execution_count": 3,
     "metadata": {},
     "output_type": "execute_result"
    }
   ],
   "source": [
    "df.head()"
   ]
  },
  {
   "cell_type": "code",
   "execution_count": 4,
   "id": "d9bc7df8-0f09-43b4-970a-4f41e956a448",
   "metadata": {},
   "outputs": [
    {
     "data": {
      "text/plain": [
       "array(['empty', 'sadness', 'enthusiasm', 'neutral', 'worry', 'surprise',\n",
       "       'love', 'fun', 'hate', 'happiness', 'boredom', 'relief', 'anger'],\n",
       "      dtype=object)"
      ]
     },
     "execution_count": 4,
     "metadata": {},
     "output_type": "execute_result"
    }
   ],
   "source": [
    "df['sentiment'].unique()"
   ]
  },
  {
   "cell_type": "code",
   "execution_count": 5,
   "id": "d3ae4623-40ab-4404-9c97-d5adb60123d7",
   "metadata": {},
   "outputs": [],
   "source": [
    "def clean_text(text):\n",
    "    text = re.sub(r'<.*?>', '', text)  \n",
    "    return text\n",
    "df['content'] = df['content'].apply(clean_text) "
   ]
  },
  {
   "cell_type": "code",
   "execution_count": 6,
   "id": "3ac774a7-aceb-4664-b6fc-a88e468d4293",
   "metadata": {},
   "outputs": [
    {
     "data": {
      "text/html": [
       "<div>\n",
       "<style scoped>\n",
       "    .dataframe tbody tr th:only-of-type {\n",
       "        vertical-align: middle;\n",
       "    }\n",
       "\n",
       "    .dataframe tbody tr th {\n",
       "        vertical-align: top;\n",
       "    }\n",
       "\n",
       "    .dataframe thead th {\n",
       "        text-align: right;\n",
       "    }\n",
       "</style>\n",
       "<table border=\"1\" class=\"dataframe\">\n",
       "  <thead>\n",
       "    <tr style=\"text-align: right;\">\n",
       "      <th></th>\n",
       "      <th>tweet_id</th>\n",
       "      <th>sentiment</th>\n",
       "      <th>content</th>\n",
       "    </tr>\n",
       "  </thead>\n",
       "  <tbody>\n",
       "    <tr>\n",
       "      <th>0</th>\n",
       "      <td>1956967341</td>\n",
       "      <td>empty</td>\n",
       "      <td>@tiffanylue i know  i was listenin to bad habi...</td>\n",
       "    </tr>\n",
       "    <tr>\n",
       "      <th>1</th>\n",
       "      <td>1956967666</td>\n",
       "      <td>sadness</td>\n",
       "      <td>Layin n bed with a headache  ughhhh...waitin o...</td>\n",
       "    </tr>\n",
       "    <tr>\n",
       "      <th>2</th>\n",
       "      <td>1956967696</td>\n",
       "      <td>sadness</td>\n",
       "      <td>Funeral ceremony...gloomy friday...</td>\n",
       "    </tr>\n",
       "    <tr>\n",
       "      <th>3</th>\n",
       "      <td>1956967789</td>\n",
       "      <td>enthusiasm</td>\n",
       "      <td>wants to hang out with friends SOON!</td>\n",
       "    </tr>\n",
       "    <tr>\n",
       "      <th>4</th>\n",
       "      <td>1956968416</td>\n",
       "      <td>neutral</td>\n",
       "      <td>@dannycastillo We want to trade with someone w...</td>\n",
       "    </tr>\n",
       "  </tbody>\n",
       "</table>\n",
       "</div>"
      ],
      "text/plain": [
       "     tweet_id   sentiment                                            content\n",
       "0  1956967341       empty  @tiffanylue i know  i was listenin to bad habi...\n",
       "1  1956967666     sadness  Layin n bed with a headache  ughhhh...waitin o...\n",
       "2  1956967696     sadness                Funeral ceremony...gloomy friday...\n",
       "3  1956967789  enthusiasm               wants to hang out with friends SOON!\n",
       "4  1956968416     neutral  @dannycastillo We want to trade with someone w..."
      ]
     },
     "execution_count": 6,
     "metadata": {},
     "output_type": "execute_result"
    }
   ],
   "source": [
    "df.head()"
   ]
  },
  {
   "cell_type": "code",
   "execution_count": 7,
   "id": "7a328118-0551-4e83-949a-d3e4ff994c8f",
   "metadata": {},
   "outputs": [
    {
     "name": "stdout",
     "output_type": "stream",
     "text": [
      "{'anger': 0, 'boredom': 1, 'empty': 2, 'enthusiasm': 3, 'fun': 4, 'happiness': 5, 'hate': 6, 'love': 7, 'neutral': 8, 'relief': 9, 'sadness': 10, 'surprise': 11, 'worry': 12}\n"
     ]
    }
   ],
   "source": [
    "from sklearn.preprocessing import LabelEncoder\n",
    "\n",
    "sentiment_labels = df['sentiment']\n",
    "label_encoder = LabelEncoder()\n",
    "df['sentiment'] = label_encoder.fit_transform(sentiment_labels)\n",
    "print(dict(zip(label_encoder.classes_, label_encoder.transform(label_encoder.classes_))))\n"
   ]
  },
  {
   "cell_type": "code",
   "execution_count": 8,
   "id": "54d91957-1670-412e-9c03-294603cc4ff8",
   "metadata": {},
   "outputs": [],
   "source": [
    "df['sentiment']=df['sentiment'].astype(int)"
   ]
  },
  {
   "cell_type": "code",
   "execution_count": 9,
   "id": "2b9c77d6-7afb-4c63-855f-0c375f5eb9b0",
   "metadata": {},
   "outputs": [
    {
     "data": {
      "text/html": [
       "<div>\n",
       "<style scoped>\n",
       "    .dataframe tbody tr th:only-of-type {\n",
       "        vertical-align: middle;\n",
       "    }\n",
       "\n",
       "    .dataframe tbody tr th {\n",
       "        vertical-align: top;\n",
       "    }\n",
       "\n",
       "    .dataframe thead th {\n",
       "        text-align: right;\n",
       "    }\n",
       "</style>\n",
       "<table border=\"1\" class=\"dataframe\">\n",
       "  <thead>\n",
       "    <tr style=\"text-align: right;\">\n",
       "      <th></th>\n",
       "      <th>tweet_id</th>\n",
       "      <th>sentiment</th>\n",
       "      <th>content</th>\n",
       "    </tr>\n",
       "  </thead>\n",
       "  <tbody>\n",
       "    <tr>\n",
       "      <th>0</th>\n",
       "      <td>1956967341</td>\n",
       "      <td>2</td>\n",
       "      <td>@tiffanylue i know  i was listenin to bad habi...</td>\n",
       "    </tr>\n",
       "    <tr>\n",
       "      <th>1</th>\n",
       "      <td>1956967666</td>\n",
       "      <td>10</td>\n",
       "      <td>Layin n bed with a headache  ughhhh...waitin o...</td>\n",
       "    </tr>\n",
       "    <tr>\n",
       "      <th>2</th>\n",
       "      <td>1956967696</td>\n",
       "      <td>10</td>\n",
       "      <td>Funeral ceremony...gloomy friday...</td>\n",
       "    </tr>\n",
       "    <tr>\n",
       "      <th>3</th>\n",
       "      <td>1956967789</td>\n",
       "      <td>3</td>\n",
       "      <td>wants to hang out with friends SOON!</td>\n",
       "    </tr>\n",
       "    <tr>\n",
       "      <th>4</th>\n",
       "      <td>1956968416</td>\n",
       "      <td>8</td>\n",
       "      <td>@dannycastillo We want to trade with someone w...</td>\n",
       "    </tr>\n",
       "  </tbody>\n",
       "</table>\n",
       "</div>"
      ],
      "text/plain": [
       "     tweet_id  sentiment                                            content\n",
       "0  1956967341          2  @tiffanylue i know  i was listenin to bad habi...\n",
       "1  1956967666         10  Layin n bed with a headache  ughhhh...waitin o...\n",
       "2  1956967696         10                Funeral ceremony...gloomy friday...\n",
       "3  1956967789          3               wants to hang out with friends SOON!\n",
       "4  1956968416          8  @dannycastillo We want to trade with someone w..."
      ]
     },
     "execution_count": 9,
     "metadata": {},
     "output_type": "execute_result"
    }
   ],
   "source": [
    "df.head()"
   ]
  },
  {
   "cell_type": "code",
   "execution_count": 10,
   "id": "3e9c828e-f943-40f5-866a-489f816d471d",
   "metadata": {},
   "outputs": [
    {
     "name": "stdout",
     "output_type": "stream",
     "text": [
      "<class 'pandas.core.frame.DataFrame'>\n",
      "RangeIndex: 40000 entries, 0 to 39999\n",
      "Data columns (total 3 columns):\n",
      " #   Column     Non-Null Count  Dtype \n",
      "---  ------     --------------  ----- \n",
      " 0   tweet_id   40000 non-null  int64 \n",
      " 1   sentiment  40000 non-null  int64 \n",
      " 2   content    40000 non-null  object\n",
      "dtypes: int64(2), object(1)\n",
      "memory usage: 937.6+ KB\n"
     ]
    }
   ],
   "source": [
    "df.info()"
   ]
  },
  {
   "cell_type": "code",
   "execution_count": 11,
   "id": "bac9db05-09bf-4295-8ef8-51fa97933961",
   "metadata": {},
   "outputs": [
    {
     "data": {
      "text/plain": [
       "<bound method NDFrame.describe of          tweet_id  sentiment  \\\n",
       "0      1956967341          2   \n",
       "1      1956967666         10   \n",
       "2      1956967696         10   \n",
       "3      1956967789          3   \n",
       "4      1956968416          8   \n",
       "...           ...        ...   \n",
       "39995  1753918954          8   \n",
       "39996  1753919001          7   \n",
       "39997  1753919005          7   \n",
       "39998  1753919043          5   \n",
       "39999  1753919049          7   \n",
       "\n",
       "                                                 content  \n",
       "0      @tiffanylue i know  i was listenin to bad habi...  \n",
       "1      Layin n bed with a headache  ughhhh...waitin o...  \n",
       "2                    Funeral ceremony...gloomy friday...  \n",
       "3                   wants to hang out with friends SOON!  \n",
       "4      @dannycastillo We want to trade with someone w...  \n",
       "...                                                  ...  \n",
       "39995                                   @JohnLloydTaylor  \n",
       "39996                     Happy Mothers Day  All my love  \n",
       "39997  Happy Mother's Day to all the mommies out ther...  \n",
       "39998  @niariley WASSUP BEAUTIFUL!!! FOLLOW ME!!  PEE...  \n",
       "39999  @mopedronin bullet train from tokyo    the gf ...  \n",
       "\n",
       "[40000 rows x 3 columns]>"
      ]
     },
     "execution_count": 11,
     "metadata": {},
     "output_type": "execute_result"
    }
   ],
   "source": [
    "df.describe"
   ]
  },
  {
   "cell_type": "code",
   "execution_count": 12,
   "id": "44ac2bf4-66ec-4fff-b64c-65fbfe26e82d",
   "metadata": {},
   "outputs": [
    {
     "data": {
      "text/plain": [
       "tweet_id     0\n",
       "sentiment    0\n",
       "content      0\n",
       "dtype: int64"
      ]
     },
     "execution_count": 12,
     "metadata": {},
     "output_type": "execute_result"
    }
   ],
   "source": [
    " df.isnull().sum()"
   ]
  },
  {
   "cell_type": "code",
   "execution_count": 14,
   "id": "18668f4f-0f8e-44a2-a426-274d8d8b19e8",
   "metadata": {},
   "outputs": [
    {
     "data": {
      "text/plain": [
       "<bound method NDFrame.describe of          tweet_id  sentiment  \\\n",
       "0      1956967341          2   \n",
       "1      1956967666         10   \n",
       "2      1956967696         10   \n",
       "3      1956967789          3   \n",
       "4      1956968416          8   \n",
       "...           ...        ...   \n",
       "39995  1753918954          8   \n",
       "39996  1753919001          7   \n",
       "39997  1753919005          7   \n",
       "39998  1753919043          5   \n",
       "39999  1753919049          7   \n",
       "\n",
       "                                                 content  \n",
       "0      @tiffanylue i know  i was listenin to bad habi...  \n",
       "1      Layin n bed with a headache  ughhhh...waitin o...  \n",
       "2                    Funeral ceremony...gloomy friday...  \n",
       "3                   wants to hang out with friends SOON!  \n",
       "4      @dannycastillo We want to trade with someone w...  \n",
       "...                                                  ...  \n",
       "39995                                   @JohnLloydTaylor  \n",
       "39996                     Happy Mothers Day  All my love  \n",
       "39997  Happy Mother's Day to all the mommies out ther...  \n",
       "39998  @niariley WASSUP BEAUTIFUL!!! FOLLOW ME!!  PEE...  \n",
       "39999  @mopedronin bullet train from tokyo    the gf ...  \n",
       "\n",
       "[40000 rows x 3 columns]>"
      ]
     },
     "execution_count": 14,
     "metadata": {},
     "output_type": "execute_result"
    }
   ],
   "source": [
    "df.describe"
   ]
  },
  {
   "cell_type": "code",
   "execution_count": 15,
   "id": "7946070e-44e2-4222-a652-d3e8699a8d72",
   "metadata": {},
   "outputs": [
    {
     "name": "stdout",
     "output_type": "stream",
     "text": [
      "<class 'pandas.core.frame.DataFrame'>\n",
      "RangeIndex: 40000 entries, 0 to 39999\n",
      "Data columns (total 3 columns):\n",
      " #   Column     Non-Null Count  Dtype \n",
      "---  ------     --------------  ----- \n",
      " 0   tweet_id   40000 non-null  int64 \n",
      " 1   sentiment  40000 non-null  int64 \n",
      " 2   content    40000 non-null  object\n",
      "dtypes: int64(2), object(1)\n",
      "memory usage: 937.6+ KB\n"
     ]
    }
   ],
   "source": [
    "df.info()"
   ]
  },
  {
   "cell_type": "code",
   "execution_count": 16,
   "id": "964165ac-4ca9-49fb-970e-820febf614e4",
   "metadata": {},
   "outputs": [],
   "source": [
    "X = df['content']\n",
    "y = df['sentiment']"
   ]
  },
  {
   "cell_type": "code",
   "execution_count": 17,
   "id": "81e57624-2dd3-458b-b49b-49a7295c4bd2",
   "metadata": {},
   "outputs": [
    {
     "data": {
      "text/plain": [
       "0        @tiffanylue i know  i was listenin to bad habi...\n",
       "1        Layin n bed with a headache  ughhhh...waitin o...\n",
       "2                      Funeral ceremony...gloomy friday...\n",
       "3                     wants to hang out with friends SOON!\n",
       "4        @dannycastillo We want to trade with someone w...\n",
       "                               ...                        \n",
       "39995                                     @JohnLloydTaylor\n",
       "39996                       Happy Mothers Day  All my love\n",
       "39997    Happy Mother's Day to all the mommies out ther...\n",
       "39998    @niariley WASSUP BEAUTIFUL!!! FOLLOW ME!!  PEE...\n",
       "39999    @mopedronin bullet train from tokyo    the gf ...\n",
       "Name: content, Length: 40000, dtype: object"
      ]
     },
     "execution_count": 17,
     "metadata": {},
     "output_type": "execute_result"
    }
   ],
   "source": [
    "X\n"
   ]
  },
  {
   "cell_type": "code",
   "execution_count": 18,
   "id": "82c69865-37de-49c0-86e1-1a73bff20630",
   "metadata": {},
   "outputs": [],
   "source": [
    "MAX_FEATURES = 150000"
   ]
  },
  {
   "cell_type": "code",
   "execution_count": 19,
   "id": "5467a28d-6dfb-4a08-a13a-fbf0eb54a959",
   "metadata": {},
   "outputs": [
    {
     "data": {
      "text/plain": [
       "83297"
      ]
     },
     "execution_count": 19,
     "metadata": {},
     "output_type": "execute_result"
    }
   ],
   "source": [
    "len(set(\" \".join(df['content']).split()))"
   ]
  },
  {
   "cell_type": "code",
   "execution_count": 20,
   "id": "364271bf-8735-488e-9960-f3ab19d1e576",
   "metadata": {},
   "outputs": [
    {
     "name": "stdout",
     "output_type": "stream",
     "text": [
      "90th Percentile of text length: 23.0\n",
      "95th Percentile of text length: 25.0\n"
     ]
    }
   ],
   "source": [
    "df['text_length'] = df['content'].apply(lambda x: len(x.split()))\n",
    "\n",
    "\n",
    "percentile_90 = np.percentile(df['text_length'], 90)\n",
    "percentile_95 = np.percentile(df['text_length'], 95)\n",
    "\n",
    "print(f\"90th Percentile of text length: {percentile_90}\")\n",
    "print(f\"95th Percentile of text length: {percentile_95}\")"
   ]
  },
  {
   "cell_type": "code",
   "execution_count": 21,
   "id": "d72c995f-6adb-4770-b653-7d9686163e3b",
   "metadata": {},
   "outputs": [],
   "source": [
    "OUTPUT_SEQUENCE_LENGTH = int(percentile_95) + 20 "
   ]
  },
  {
   "cell_type": "code",
   "execution_count": 22,
   "id": "29ce5acf-7fdd-4233-b6a0-93516f7f7f9a",
   "metadata": {},
   "outputs": [],
   "source": [
    "vectorizer = TextVectorization(max_tokens=MAX_FEATURES,\n",
    "                               output_sequence_length=OUTPUT_SEQUENCE_LENGTH,\n",
    "                               output_mode='int')"
   ]
  },
  {
   "cell_type": "code",
   "execution_count": 23,
   "id": "bdf846c1-0d79-419c-8963-ce3b8f9b6959",
   "metadata": {},
   "outputs": [],
   "source": [
    "vectorizer.adapt(X.values)\n",
    "vectorized_text = vectorizer(X.values)"
   ]
  },
  {
   "cell_type": "code",
   "execution_count": 24,
   "id": "a61617fd-8e98-4a20-8c7f-aa0a63613e5b",
   "metadata": {},
   "outputs": [
    {
     "name": "stdout",
     "output_type": "stream",
     "text": [
      "Number of samples in the dataset: 40000\n"
     ]
    }
   ],
   "source": [
    "num_samples = df.shape[0]\n",
    "print(f'Number of samples in the dataset: {num_samples}')\n"
   ]
  },
  {
   "cell_type": "code",
   "execution_count": 25,
   "id": "dc07a8c7-9b88-4dcb-a613-539a33e919c8",
   "metadata": {},
   "outputs": [],
   "source": [
    "buffer_size_shuffle = 50000 \n",
    "buffer_size_prefetch = tf.data.experimental.AUTOTUNE  \n",
    "\n",
    "dataset = tf.data.Dataset.from_tensor_slices((vectorized_text, y))\n",
    "dataset = dataset.cache()\n",
    "dataset = dataset.shuffle(buffer_size=buffer_size_shuffle)\n",
    "dataset = dataset.batch(16)  # Assuming a batch size of 16\n",
    "dataset = dataset.prefetch(buffer_size=buffer_size_prefetch)\n"
   ]
  },
  {
   "cell_type": "code",
   "execution_count": 26,
   "id": "68e188c5-6989-42f5-aa02-2b12f1036ba3",
   "metadata": {},
   "outputs": [],
   "source": [
    "batch_x, batch_y = dataset.as_numpy_iterator().next()"
   ]
  },
  {
   "cell_type": "code",
   "execution_count": 27,
   "id": "2d4ed036-5563-41fa-8a6b-c515a91f6ae5",
   "metadata": {},
   "outputs": [],
   "source": [
    "train = dataset.take(int(len(dataset)*.7))\n",
    "val = dataset.skip(int(len(dataset)*.7)).take(int(len(dataset)*.2))\n",
    "test = dataset.skip(int(len(dataset)*.9)).take(int(len(dataset)*.1))"
   ]
  },
  {
   "cell_type": "code",
   "execution_count": 67,
   "id": "9db3e6f2-6562-4f83-92ab-d771af7aa31c",
   "metadata": {},
   "outputs": [
    {
     "name": "stdout",
     "output_type": "stream",
     "text": [
      "Model: \"sequential_3\"\n",
      "_________________________________________________________________\n",
      " Layer (type)                Output Shape              Param #   \n",
      "=================================================================\n",
      " embedding_3 (Embedding)     (None, 45, 32)            4800032   \n",
      "                                                                 \n",
      " bidirectional_3 (Bidirecti  (None, 45, 128)           49664     \n",
      " onal)                                                           \n",
      "                                                                 \n",
      " dropout (Dropout)           (None, 45, 128)           0         \n",
      "                                                                 \n",
      " bidirectional_4 (Bidirecti  (None, 64)                41216     \n",
      " onal)                                                           \n",
      "                                                                 \n",
      " dropout_1 (Dropout)         (None, 64)                0         \n",
      "                                                                 \n",
      " dense_6 (Dense)             (None, 64)                4160      \n",
      "                                                                 \n",
      " dense_7 (Dense)             (None, 13)                845       \n",
      "                                                                 \n",
      "=================================================================\n",
      "Total params: 4895917 (18.68 MB)\n",
      "Trainable params: 4895917 (18.68 MB)\n",
      "Non-trainable params: 0 (0.00 Byte)\n",
      "_________________________________________________________________\n"
     ]
    }
   ],
   "source": [
    "import tensorflow as tf\n",
    "from tensorflow.keras.models import Sequential\n",
    "from tensorflow.keras.layers import Embedding, Bidirectional, LSTM, Dense, Dropout\n",
    "from tensorflow.keras.regularizers import l2\n",
    "\n",
    "\n",
    "NUM_CLASSES = 13 \n",
    "\n",
    "model = Sequential()\n",
    "model.add(Embedding(input_dim=MAX_FEATURES + 1, output_dim=32, input_length=OUTPUT_SEQUENCE_LENGTH))\n",
    "model.add(Bidirectional(LSTM(units=64, return_sequences=True)))\n",
    "model.add(Dropout(0.5))\n",
    "model.add(Bidirectional(LSTM(units=32)))\n",
    "model.add(Dropout(0.5))\n",
    "model.add(Dense(units=64, activation='relu', kernel_regularizer=l2(0.01)))\n",
    "model.add(Dense(units=NUM_CLASSES, activation='softmax'))\n",
    "\n",
    "model.compile(\n",
    "    optimizer=tf.keras.optimizers.legacy.Adam(learning_rate=0.0005),  \n",
    "    loss='sparse_categorical_crossentropy', \n",
    "    metrics=['accuracy']\n",
    ")\n",
    "\n",
    "model.summary()\n"
   ]
  },
  {
   "cell_type": "code",
   "execution_count": 69,
   "id": "3abb5dd6-3e51-475f-ab04-1cb00059e48d",
   "metadata": {},
   "outputs": [
    {
     "name": "stdout",
     "output_type": "stream",
     "text": [
      "Epoch 1/50\n",
      "1750/1750 [==============================] - 64s 37ms/step - loss: 1.1934 - accuracy: 0.6223 - val_loss: 0.9992 - val_accuracy: 0.6913\n",
      "Epoch 2/50\n",
      "1750/1750 [==============================] - 65s 37ms/step - loss: 1.0693 - accuracy: 0.6687 - val_loss: 0.9047 - val_accuracy: 0.7278\n",
      "Epoch 3/50\n",
      "1750/1750 [==============================] - 63s 36ms/step - loss: 0.9670 - accuracy: 0.7064 - val_loss: 0.8037 - val_accuracy: 0.7565\n",
      "Epoch 4/50\n",
      "1750/1750 [==============================] - 63s 36ms/step - loss: 0.8865 - accuracy: 0.7359 - val_loss: 0.7505 - val_accuracy: 0.7756\n",
      "Epoch 5/50\n",
      "1750/1750 [==============================] - 63s 36ms/step - loss: 0.8059 - accuracy: 0.7627 - val_loss: 0.6625 - val_accuracy: 0.8084\n",
      "Epoch 6/50\n",
      "1750/1750 [==============================] - 63s 36ms/step - loss: 0.7392 - accuracy: 0.7853 - val_loss: 0.5914 - val_accuracy: 0.8291\n",
      "Epoch 7/50\n",
      "1750/1750 [==============================] - 63s 36ms/step - loss: 0.6891 - accuracy: 0.7996 - val_loss: 0.5803 - val_accuracy: 0.8309\n",
      "Epoch 8/50\n",
      "1750/1750 [==============================] - 63s 36ms/step - loss: 0.6492 - accuracy: 0.8156 - val_loss: 0.5229 - val_accuracy: 0.8565\n",
      "Epoch 9/50\n",
      "1750/1750 [==============================] - 63s 36ms/step - loss: 0.5976 - accuracy: 0.8285 - val_loss: 0.5235 - val_accuracy: 0.8475\n",
      "Epoch 10/50\n",
      "1750/1750 [==============================] - 63s 36ms/step - loss: 0.5535 - accuracy: 0.8430 - val_loss: 0.4707 - val_accuracy: 0.8651\n",
      "Epoch 11/50\n",
      "1750/1750 [==============================] - 63s 36ms/step - loss: 0.5226 - accuracy: 0.8516 - val_loss: 0.4465 - val_accuracy: 0.8740\n",
      "Epoch 12/50\n",
      "1750/1750 [==============================] - 63s 36ms/step - loss: 0.5027 - accuracy: 0.8605 - val_loss: 0.3951 - val_accuracy: 0.8871\n",
      "Epoch 13/50\n",
      "1750/1750 [==============================] - 63s 36ms/step - loss: 0.4807 - accuracy: 0.8657 - val_loss: 0.4025 - val_accuracy: 0.8825\n",
      "Epoch 14/50\n",
      "1750/1750 [==============================] - 63s 36ms/step - loss: 0.4441 - accuracy: 0.8748 - val_loss: 0.3712 - val_accuracy: 0.8935\n",
      "Epoch 15/50\n",
      "1750/1750 [==============================] - 443s 253ms/step - loss: 0.4380 - accuracy: 0.8761 - val_loss: 0.3805 - val_accuracy: 0.8928\n",
      "Epoch 16/50\n",
      "1750/1750 [==============================] - 66s 38ms/step - loss: 0.4202 - accuracy: 0.8823 - val_loss: 0.3441 - val_accuracy: 0.9036\n",
      "Epoch 17/50\n",
      "1750/1750 [==============================] - 72s 41ms/step - loss: 0.4000 - accuracy: 0.8880 - val_loss: 0.3149 - val_accuracy: 0.9076\n",
      "Epoch 18/50\n",
      "1750/1750 [==============================] - 74s 42ms/step - loss: 0.3778 - accuracy: 0.8922 - val_loss: 0.3151 - val_accuracy: 0.9087\n",
      "Epoch 19/50\n",
      "1750/1750 [==============================] - 75s 43ms/step - loss: 0.3565 - accuracy: 0.8998 - val_loss: 0.3036 - val_accuracy: 0.9107\n",
      "Epoch 20/50\n",
      "1750/1750 [==============================] - 65s 37ms/step - loss: 0.3446 - accuracy: 0.9046 - val_loss: 0.2756 - val_accuracy: 0.9194\n",
      "Epoch 21/50\n",
      "1750/1750 [==============================] - 73s 42ms/step - loss: 0.3348 - accuracy: 0.9054 - val_loss: 0.2761 - val_accuracy: 0.9200\n",
      "Epoch 22/50\n",
      "1750/1750 [==============================] - 69s 40ms/step - loss: 0.3140 - accuracy: 0.9116 - val_loss: 0.2621 - val_accuracy: 0.9221\n",
      "Epoch 23/50\n",
      "1750/1750 [==============================] - 72s 41ms/step - loss: 0.3070 - accuracy: 0.9143 - val_loss: 0.2660 - val_accuracy: 0.9220\n",
      "Epoch 24/50\n",
      "1750/1750 [==============================] - 76s 43ms/step - loss: 0.2983 - accuracy: 0.9153 - val_loss: 0.2625 - val_accuracy: 0.9283\n",
      "Epoch 25/50\n",
      "1750/1750 [==============================] - 67s 38ms/step - loss: 0.2885 - accuracy: 0.9183 - val_loss: 0.2418 - val_accuracy: 0.9308\n",
      "Epoch 26/50\n",
      "1750/1750 [==============================] - 68s 39ms/step - loss: 0.2829 - accuracy: 0.9190 - val_loss: 0.2218 - val_accuracy: 0.9370\n",
      "Epoch 27/50\n",
      "1750/1750 [==============================] - 70s 40ms/step - loss: 0.2714 - accuracy: 0.9221 - val_loss: 0.2258 - val_accuracy: 0.9337\n",
      "Epoch 28/50\n",
      "1750/1750 [==============================] - 67s 38ms/step - loss: 0.2676 - accuracy: 0.9240 - val_loss: 0.2172 - val_accuracy: 0.9375\n",
      "Epoch 29/50\n",
      "1750/1750 [==============================] - 69s 39ms/step - loss: 0.2621 - accuracy: 0.9261 - val_loss: 0.2036 - val_accuracy: 0.9392\n",
      "Epoch 30/50\n",
      "1750/1750 [==============================] - 69s 40ms/step - loss: 0.2503 - accuracy: 0.9290 - val_loss: 0.1973 - val_accuracy: 0.9427\n",
      "Epoch 31/50\n",
      "1750/1750 [==============================] - 67s 38ms/step - loss: 0.2475 - accuracy: 0.9304 - val_loss: 0.1963 - val_accuracy: 0.9430\n",
      "Epoch 32/50\n",
      "1750/1750 [==============================] - 70s 40ms/step - loss: 0.2376 - accuracy: 0.9345 - val_loss: 0.1997 - val_accuracy: 0.9390\n",
      "Epoch 33/50\n",
      "1750/1750 [==============================] - 68s 39ms/step - loss: 0.2321 - accuracy: 0.9346 - val_loss: 0.1895 - val_accuracy: 0.9451\n",
      "Epoch 34/50\n",
      "1750/1750 [==============================] - 67s 39ms/step - loss: 0.2243 - accuracy: 0.9370 - val_loss: 0.1782 - val_accuracy: 0.9501\n",
      "Epoch 35/50\n",
      "1750/1750 [==============================] - 67s 38ms/step - loss: 0.2160 - accuracy: 0.9405 - val_loss: 0.1760 - val_accuracy: 0.9507\n",
      "Epoch 36/50\n",
      "1750/1750 [==============================] - 70s 40ms/step - loss: 0.2087 - accuracy: 0.9413 - val_loss: 0.1530 - val_accuracy: 0.9600\n",
      "Epoch 37/50\n",
      "1750/1750 [==============================] - 67s 38ms/step - loss: 0.2135 - accuracy: 0.9408 - val_loss: 0.1624 - val_accuracy: 0.9536\n",
      "Epoch 38/50\n",
      "1750/1750 [==============================] - 67s 38ms/step - loss: 0.2052 - accuracy: 0.9428 - val_loss: 0.1654 - val_accuracy: 0.9524\n",
      "Epoch 39/50\n",
      "1750/1750 [==============================] - 67s 39ms/step - loss: 0.1990 - accuracy: 0.9460 - val_loss: 0.1518 - val_accuracy: 0.9590\n",
      "Epoch 40/50\n",
      "1750/1750 [==============================] - 69s 39ms/step - loss: 0.1939 - accuracy: 0.9454 - val_loss: 0.1438 - val_accuracy: 0.9606\n",
      "Epoch 41/50\n",
      "1750/1750 [==============================] - 68s 39ms/step - loss: 0.1887 - accuracy: 0.9476 - val_loss: 0.1441 - val_accuracy: 0.9571\n",
      "Epoch 42/50\n",
      "1750/1750 [==============================] - 74s 42ms/step - loss: 0.1844 - accuracy: 0.9492 - val_loss: 0.1392 - val_accuracy: 0.9629\n",
      "Epoch 43/50\n",
      "1750/1750 [==============================] - 77s 44ms/step - loss: 0.1784 - accuracy: 0.9509 - val_loss: 0.1509 - val_accuracy: 0.9578\n",
      "Epoch 44/50\n",
      "1750/1750 [==============================] - 78s 45ms/step - loss: 0.1791 - accuracy: 0.9517 - val_loss: 0.1388 - val_accuracy: 0.9619\n",
      "Epoch 45/50\n",
      "1750/1750 [==============================] - 69s 39ms/step - loss: 0.1644 - accuracy: 0.9563 - val_loss: 0.1309 - val_accuracy: 0.9641\n",
      "Epoch 46/50\n",
      "1750/1750 [==============================] - 67s 39ms/step - loss: 0.1706 - accuracy: 0.9521 - val_loss: 0.1428 - val_accuracy: 0.9603\n",
      "Epoch 47/50\n",
      "1750/1750 [==============================] - 68s 39ms/step - loss: 0.1623 - accuracy: 0.9548 - val_loss: 0.1415 - val_accuracy: 0.9582\n",
      "Epoch 48/50\n",
      "1750/1750 [==============================] - 69s 39ms/step - loss: 0.1635 - accuracy: 0.9552 - val_loss: 0.1204 - val_accuracy: 0.9655\n",
      "Epoch 49/50\n",
      "1750/1750 [==============================] - 67s 38ms/step - loss: 0.1567 - accuracy: 0.9572 - val_loss: 0.1149 - val_accuracy: 0.9700\n",
      "Epoch 50/50\n",
      "1750/1750 [==============================] - 70s 40ms/step - loss: 0.1530 - accuracy: 0.9579 - val_loss: 0.1096 - val_accuracy: 0.9696\n",
      "250/250 [==============================] - 1s 5ms/step - loss: 0.1049 - accuracy: 0.9707\n",
      "Test Accuracy: 97.07%\n"
     ]
    }
   ],
   "source": [
    "history = model.fit(train, validation_data=val, epochs=50)\n",
    "\n",
    "\n",
    "test_loss, test_accuracy = model.evaluate(test)\n",
    "print(f\"Test Accuracy: {test_accuracy * 100:.2f}%\")"
   ]
  },
  {
   "cell_type": "code",
   "execution_count": 70,
   "id": "ca5dadc8-7e45-46ed-8429-3c357bb96de2",
   "metadata": {},
   "outputs": [
    {
     "data": {
      "text/plain": [
       "{'loss': [1.1933927536010742,\n",
       "  1.0693165063858032,\n",
       "  0.9669733643531799,\n",
       "  0.8865355253219604,\n",
       "  0.8059282898902893,\n",
       "  0.7391692399978638,\n",
       "  0.6891229152679443,\n",
       "  0.6492123603820801,\n",
       "  0.5976467728614807,\n",
       "  0.5534510612487793,\n",
       "  0.522557258605957,\n",
       "  0.5027400851249695,\n",
       "  0.48071321845054626,\n",
       "  0.44412899017333984,\n",
       "  0.4379845857620239,\n",
       "  0.42021533846855164,\n",
       "  0.40003320574760437,\n",
       "  0.3778216242790222,\n",
       "  0.35645318031311035,\n",
       "  0.3446013331413269,\n",
       "  0.33475461602211,\n",
       "  0.3140125274658203,\n",
       "  0.307011216878891,\n",
       "  0.2983279228210449,\n",
       "  0.288522869348526,\n",
       "  0.28288522362709045,\n",
       "  0.27144181728363037,\n",
       "  0.2675512135028839,\n",
       "  0.26209816336631775,\n",
       "  0.25032952427864075,\n",
       "  0.2475193440914154,\n",
       "  0.2376457303762436,\n",
       "  0.23206961154937744,\n",
       "  0.22433733940124512,\n",
       "  0.21596376597881317,\n",
       "  0.20867447555065155,\n",
       "  0.21352341771125793,\n",
       "  0.20519892871379852,\n",
       "  0.19898027181625366,\n",
       "  0.19389091432094574,\n",
       "  0.18868082761764526,\n",
       "  0.184381902217865,\n",
       "  0.17837992310523987,\n",
       "  0.17908021807670593,\n",
       "  0.16439171135425568,\n",
       "  0.1706414818763733,\n",
       "  0.1623210310935974,\n",
       "  0.16346138715744019,\n",
       "  0.15668253600597382,\n",
       "  0.15299569070339203],\n",
       " 'accuracy': [0.6223214268684387,\n",
       "  0.6687142848968506,\n",
       "  0.7063571214675903,\n",
       "  0.7359285950660706,\n",
       "  0.7626785635948181,\n",
       "  0.7853214144706726,\n",
       "  0.7996071577072144,\n",
       "  0.8156071305274963,\n",
       "  0.8285357356071472,\n",
       "  0.8429642915725708,\n",
       "  0.8515714406967163,\n",
       "  0.8604999780654907,\n",
       "  0.8657143115997314,\n",
       "  0.874750018119812,\n",
       "  0.8761428594589233,\n",
       "  0.8822500109672546,\n",
       "  0.8880357146263123,\n",
       "  0.892214298248291,\n",
       "  0.8997856974601746,\n",
       "  0.9046071171760559,\n",
       "  0.9053928852081299,\n",
       "  0.9116071462631226,\n",
       "  0.9142500162124634,\n",
       "  0.915321409702301,\n",
       "  0.9182857275009155,\n",
       "  0.9190000295639038,\n",
       "  0.9220714569091797,\n",
       "  0.923964262008667,\n",
       "  0.9260714054107666,\n",
       "  0.9290357232093811,\n",
       "  0.9303571581840515,\n",
       "  0.934499979019165,\n",
       "  0.9346071481704712,\n",
       "  0.9369999766349792,\n",
       "  0.9404642581939697,\n",
       "  0.9413214325904846,\n",
       "  0.940750002861023,\n",
       "  0.9427857398986816,\n",
       "  0.9459999799728394,\n",
       "  0.9453928470611572,\n",
       "  0.947607159614563,\n",
       "  0.9492142796516418,\n",
       "  0.9508571624755859,\n",
       "  0.951714277267456,\n",
       "  0.956250011920929,\n",
       "  0.9521428346633911,\n",
       "  0.9547857046127319,\n",
       "  0.955214262008667,\n",
       "  0.9571785926818848,\n",
       "  0.9578571319580078],\n",
       " 'val_loss': [0.9991967678070068,\n",
       "  0.9047445058822632,\n",
       "  0.8036762475967407,\n",
       "  0.7504663467407227,\n",
       "  0.6624842286109924,\n",
       "  0.5914055705070496,\n",
       "  0.580346941947937,\n",
       "  0.5228530764579773,\n",
       "  0.5234948992729187,\n",
       "  0.470670223236084,\n",
       "  0.4465172290802002,\n",
       "  0.39506328105926514,\n",
       "  0.40248245000839233,\n",
       "  0.37123382091522217,\n",
       "  0.3804662227630615,\n",
       "  0.3440999388694763,\n",
       "  0.31487780809402466,\n",
       "  0.3150973618030548,\n",
       "  0.3035886585712433,\n",
       "  0.2756290137767792,\n",
       "  0.2761351466178894,\n",
       "  0.26211652159690857,\n",
       "  0.2659797668457031,\n",
       "  0.26246631145477295,\n",
       "  0.24180981516838074,\n",
       "  0.2217920571565628,\n",
       "  0.22583384811878204,\n",
       "  0.2172306627035141,\n",
       "  0.2036324143409729,\n",
       "  0.19734276831150055,\n",
       "  0.19627569615840912,\n",
       "  0.19973935186862946,\n",
       "  0.18953387439250946,\n",
       "  0.17821921408176422,\n",
       "  0.175973042845726,\n",
       "  0.15299931168556213,\n",
       "  0.1623835414648056,\n",
       "  0.1653738170862198,\n",
       "  0.15175296366214752,\n",
       "  0.14376471936702728,\n",
       "  0.1440625935792923,\n",
       "  0.13924850523471832,\n",
       "  0.15085653960704803,\n",
       "  0.1387818455696106,\n",
       "  0.1308760941028595,\n",
       "  0.1427789181470871,\n",
       "  0.14152708649635315,\n",
       "  0.12035021930932999,\n",
       "  0.11492384225130081,\n",
       "  0.10962069034576416],\n",
       " 'val_accuracy': [0.6912500262260437,\n",
       "  0.7277500033378601,\n",
       "  0.7565000057220459,\n",
       "  0.7756249904632568,\n",
       "  0.8083750009536743,\n",
       "  0.8291249871253967,\n",
       "  0.8308749794960022,\n",
       "  0.8565000295639038,\n",
       "  0.8475000262260437,\n",
       "  0.8651250004768372,\n",
       "  0.8740000128746033,\n",
       "  0.8871250152587891,\n",
       "  0.8824999928474426,\n",
       "  0.8934999704360962,\n",
       "  0.8927500247955322,\n",
       "  0.9036250114440918,\n",
       "  0.9076250195503235,\n",
       "  0.9087499976158142,\n",
       "  0.9107499718666077,\n",
       "  0.9193750023841858,\n",
       "  0.9200000166893005,\n",
       "  0.922124981880188,\n",
       "  0.921999990940094,\n",
       "  0.9282500147819519,\n",
       "  0.9307500123977661,\n",
       "  0.9369999766349792,\n",
       "  0.9337499737739563,\n",
       "  0.9375,\n",
       "  0.9392499923706055,\n",
       "  0.9427499771118164,\n",
       "  0.9430000185966492,\n",
       "  0.9390000104904175,\n",
       "  0.9451249837875366,\n",
       "  0.950124979019165,\n",
       "  0.9507499933242798,\n",
       "  0.9599999785423279,\n",
       "  0.9536250233650208,\n",
       "  0.9523749947547913,\n",
       "  0.9589999914169312,\n",
       "  0.9606249928474426,\n",
       "  0.9571250081062317,\n",
       "  0.9628750085830688,\n",
       "  0.9577500224113464,\n",
       "  0.9618750214576721,\n",
       "  0.9641249775886536,\n",
       "  0.9602500200271606,\n",
       "  0.9582499861717224,\n",
       "  0.965499997138977,\n",
       "  0.9700000286102295,\n",
       "  0.9696249961853027]}"
      ]
     },
     "execution_count": 70,
     "metadata": {},
     "output_type": "execute_result"
    }
   ],
   "source": [
    "history.history"
   ]
  },
  {
   "cell_type": "code",
   "execution_count": 71,
   "id": "46295b8b-96c4-42ad-a470-34c248d3dfa1",
   "metadata": {},
   "outputs": [
    {
     "name": "stdout",
     "output_type": "stream",
     "text": [
      "1/1 [==============================] - 1s 839ms/step\n"
     ]
    }
   ],
   "source": [
    "sample_text = [\"i am so happy because i had a nice day\"]\n",
    "predictions = model.predict(vectorizer(sample_text))"
   ]
  },
  {
   "cell_type": "code",
   "execution_count": 72,
   "id": "6162ee2a-322b-480c-b291-83f72eea873d",
   "metadata": {},
   "outputs": [
    {
     "data": {
      "text/plain": [
       "array([[3.3526965e-05, 5.4533051e-05, 7.7162189e-03, 2.1986349e-02,\n",
       "        1.6299589e-02, 1.7294894e-01, 4.7584489e-04, 2.7372951e-02,\n",
       "        1.4668423e-01, 6.5117866e-02, 3.2449890e-02, 2.9493839e-02,\n",
       "        4.7936624e-01]], dtype=float32)"
      ]
     },
     "execution_count": 72,
     "metadata": {},
     "output_type": "execute_result"
    }
   ],
   "source": [
    "predictions"
   ]
  },
  {
   "cell_type": "code",
   "execution_count": 73,
   "id": "3e2a91d4-b320-4091-a1b0-7681cfb5258c",
   "metadata": {},
   "outputs": [
    {
     "data": {
      "image/png": "[encoded data removed]",
      "text/plain": [
       "<Figure size 640x480 with 1 Axes>"
      ]
     },
     "metadata": {},
     "output_type": "display_data"
    },
    {
     "data": {
      "image/png": "[encoded data removed]",
      "text/plain": [
       "<Figure size 640x480 with 1 Axes>"
      ]
     },
     "metadata": {},
     "output_type": "display_data"
    }
   ],
   "source": [
    "import matplotlib.pyplot as plt\n",
    "\n",
    "\n",
    "plt.plot(history.history['accuracy'], label='Train Accuracy')\n",
    "plt.plot(history.history['val_accuracy'], label='Validation Accuracy')\n",
    "plt.title('Model Accuracy')\n",
    "plt.xlabel('Epoch')\n",
    "plt.ylabel('Accuracy')\n",
    "plt.legend(loc='upper left')\n",
    "plt.show()\n",
    "\n",
    "\n",
    "plt.plot(history.history['loss'], label='Train Loss')\n",
    "plt.plot(history.history['val_loss'], label='Validation Loss')\n",
    "plt.title('Model Loss')\n",
    "plt.xlabel('Epoch')\n",
    "plt.ylabel('Loss')\n",
    "plt.legend(loc='upper left')\n",
    "plt.show()"
   ]
  },
  {
   "cell_type": "code",
   "execution_count": 74,
   "id": "66542c85-33f6-4d7b-856b-06a57fd6ae31",
   "metadata": {},
   "outputs": [],
   "source": [
    "model.save('tweet_emotion_classifier.keras')"
   ]
  },
  {
   "cell_type": "code",
   "execution_count": 77,
   "id": "c9e709d8-755d-48b5-b3e4-8bbac65217d8",
   "metadata": {},
   "outputs": [
    {
     "name": "stdout",
     "output_type": "stream",
     "text": [
      "1/1 [==============================] - 0s 16ms/step\n",
      "\n",
      "Text: i will kill that bitch\n",
      "anger: 0.02%\n",
      "boredom: 0.24%\n",
      "empty: 0.10%\n",
      "enthusiasm: 0.22%\n",
      "fun: 0.04%\n",
      "happiness: 0.13%\n",
      "hate: 34.95%\n",
      "love: 3.90%\n",
      "neutral: 5.81%\n",
      "relief: 0.07%\n",
      "sadness: 46.72%\n",
      "surprise: 4.07%\n",
      "worry: 3.74%\n"
     ]
    }
   ],
   "source": [
    "sample_texts = [\"i will kill that bitch\"]\n",
    "predictions = model.predict(np.array([vectorizer(txt) for txt in sample_texts])) \n",
    "\n",
    "sentiment_classes = ['anger', 'boredom', 'empty', 'enthusiasm', 'fun', 'happiness', \n",
    "                     'hate', 'love', 'neutral', 'relief', 'sadness', 'surprise', 'worry']\n",
    "\n",
    "for txt, pred in zip(sample_texts, predictions):\n",
    " \n",
    "    print(f\"\\nText: {txt}\")\n",
    "    for sentiment, probability in zip(sentiment_classes, pred):\n",
    "        print(f\"{sentiment}: {probability * 100:.2f}%\")"
   ]
  },
  {
   "cell_type": "code",
   "execution_count": 78,
   "id": "60e0f2fb-a285-46a1-853f-93273cae4210",
   "metadata": {},
   "outputs": [
    {
     "name": "stdout",
     "output_type": "stream",
     "text": [
      "250/250 [==============================] - 2s 5ms/step\n"
     ]
    },
    {
     "data": {
      "image/png": "[encoded data removed]",
      "text/plain": [
       "<Figure size 1000x800 with 2 Axes>"
      ]
     },
     "metadata": {},
     "output_type": "display_data"
    }
   ],
   "source": [
    "import tensorflow as tf\n",
    "import numpy as np\n",
    "import matplotlib.pyplot as plt\n",
    "import seaborn as sns\n",
    "\n",
    "\n",
    "y_pred_probs = model.predict(test)\n",
    "y_pred = np.argmax(y_pred_probs, axis=1)\n",
    "y_true = np.concatenate([y for x, y in test], axis=0)\n",
    "conf_matrix = tf.math.confusion_matrix(y_true, y_pred)\n",
    "\n",
    "plt.figure(figsize=(10, 8))\n",
    "sns.heatmap(conf_matrix, annot=True, fmt='g', cmap='Blues')\n",
    "plt.xlabel(\"Predicted Labels\")\n",
    "plt.ylabel(\"True Labels\")\n",
    "plt.title(\"Confusion Matrix\")\n",
    "plt.show()\n"
   ]
  },
  {
   "cell_type": "code",
   "execution_count": 79,
   "id": "2c516a5b-f257-498b-b1cc-af1cb9fbd6ca",
   "metadata": {},
   "outputs": [
    {
     "name": "stdout",
     "output_type": "stream",
     "text": [
      "Accuracy: 0.1420\n",
      "Precision: 0.1422\n",
      "Recall: 0.1420\n",
      "F1 Score: 0.1420\n"
     ]
    }
   ],
   "source": [
    "from sklearn.metrics import accuracy_score, precision_score, recall_score, f1_score\n",
    "\n",
    "accuracy = accuracy_score(y_true, y_pred)\n",
    "precision = precision_score(y_true, y_pred, average='weighted')  \n",
    "\n",
    "recall = recall_score(y_true, y_pred, average='weighted') \n",
    "\n",
    "f1 = f1_score(y_true, y_pred, average='weighted') \n",
    "\n",
    "print(f'Accuracy: {accuracy:.4f}')\n",
    "print(f'Precision: {precision:.4f}')\n",
    "print(f'Recall: {recall:.4f}')\n",
    "print(f'F1 Score: {f1:.4f}')\n"
   ]
  }
 ],
 "metadata": {
  "kernelspec": {
   "display_name": "Python 3 (ipykernel)",
   "language": "python",
   "name": "python3"
  },
  "language_info": {
   "codemirror_mode": {
    "name": "ipython",
    "version": 3
   },
   "file_extension": ".py",
   "mimetype": "text/x-python",
   "name": "python",
   "nbconvert_exporter": "python",
   "pygments_lexer": "ipython3",
   "version": "3.10.9"
  }
 },
 "nbformat": 4,
 "nbformat_minor": 5
}
